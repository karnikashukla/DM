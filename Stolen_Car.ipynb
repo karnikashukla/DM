{
 "cells": [
  {
   "cell_type": "code",
   "execution_count": 1,
   "metadata": {},
   "outputs": [],
   "source": [
    "from sklearn import preprocessing\n",
    "import pandas as pd\n",
    "from sklearn.naive_bayes import GaussianNB\n"
   ]
  },
  {
   "cell_type": "code",
   "execution_count": 6,
   "metadata": {},
   "outputs": [],
   "source": [
    "color = ['red','red','red','yellow','yellow','yellow','yellow','yellow','red','red'];\n",
    "Type = ['sports','sports','sports','sports','sports','suv','suv','suv','suv','sports'];\n",
    "origin = ['domestic','domestic','domestic','domestic','imported','imported','imported','domestic','imported','imported'];\n",
    "\n",
    "stolen = ['yes','no','yes','no','yes','no','yes','no','no','yes']\n"
   ]
  },
  {
   "cell_type": "code",
   "execution_count": 7,
   "metadata": {},
   "outputs": [
    {
     "name": "stdout",
     "output_type": "stream",
     "text": [
      "color :  [0 0 0 1 1 1 1 1 0 0]\n",
      "Type :  [0 0 0 0 0 1 1 1 1 0]\n",
      "Origin :  [0 0 0 0 1 1 1 0 1 1]\n",
      "Stolen :  [1 0 1 0 1 0 1 0 0 1]\n"
     ]
    }
   ],
   "source": [
    "le = preprocessing.LabelEncoder()\n",
    "# Converting string labels into numbers.\n",
    "color_encoded=le.fit_transform(color)\n",
    "print(\"color : \",color_encoded);\n",
    "Type_encoded=le.fit_transform(Type)\n",
    "print(\"Type : \",Type_encoded);\n",
    "origin_encoded=le.fit_transform(origin)\n",
    "print(\"Origin : \",origin_encoded);\n",
    "label=le.fit_transform(stolen)\n",
    "print(\"Stolen : \",label);\n"
   ]
  },
  {
   "cell_type": "code",
   "execution_count": 9,
   "metadata": {},
   "outputs": [
    {
     "name": "stdout",
     "output_type": "stream",
     "text": [
      "Features :  [(0, 0, 0), (0, 0, 0), (0, 0, 0), (1, 0, 0), (1, 0, 1), (1, 1, 1), (1, 1, 1), (1, 1, 0), (0, 1, 1), (0, 0, 1)]\n"
     ]
    }
   ],
   "source": [
    "features = zip(color_encoded,Type_encoded,origin_encoded);\n",
    "features = list(features);\n",
    "print(\"Features : \",features);"
   ]
  },
  {
   "cell_type": "code",
   "execution_count": 10,
   "metadata": {},
   "outputs": [
    {
     "name": "stdout",
     "output_type": "stream",
     "text": [
      "Predicted Value: [0]\n",
      "Car will not be Stolen !\n"
     ]
    }
   ],
   "source": [
    "\n",
    "#Create a Gaussian Classifier\n",
    "model = GaussianNB()\n",
    "\n",
    "# Train the model using the training sets\n",
    "model.fit(features,label)\n",
    "\n",
    "#Predict Output\n",
    "predicted= model.predict([[0,1,0]]) # 0:Overcast, 2:Mild\n",
    "print(\"Predicted Value:\", predicted);\n",
    "\n",
    "if predicted == 1 :\n",
    "    print(\"Car will be Stolen !\");\n",
    "else :\n",
    "    print(\"Car will not be Stolen !\");"
   ]
  },
  {
   "cell_type": "code",
   "execution_count": null,
   "metadata": {},
   "outputs": [],
   "source": []
  }
 ],
 "metadata": {
  "kernelspec": {
   "display_name": "Python 3",
   "language": "python",
   "name": "python3"
  },
  "language_info": {
   "codemirror_mode": {
    "name": "ipython",
    "version": 3
   },
   "file_extension": ".py",
   "mimetype": "text/x-python",
   "name": "python",
   "nbconvert_exporter": "python",
   "pygments_lexer": "ipython3",
   "version": "3.7.1"
  }
 },
 "nbformat": 4,
 "nbformat_minor": 2
}
