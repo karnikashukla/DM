{
 "cells": [
  {
   "cell_type": "code",
   "execution_count": 5,
   "metadata": {},
   "outputs": [
    {
     "name": "stdout",
     "output_type": "stream",
     "text": [
      "Data :  [10, 20, 15, 1, 16, 45, 78, 22, 20, 15, 10, 25, 33, 34, 21]\n",
      "Sample without replacement is :   [15, 1, 45, 34, 25]\n",
      "Sample with replacement is :   [10 16 15 34 10]\n"
     ]
    }
   ],
   "source": [
    "import random;\n",
    "from random import sample;\n",
    "import numpy as np;\n",
    "\n",
    "data = [10,20,15,1,16,45,78,22,20,15,10,25,33,34,21];\n",
    "print(\"Data : \",data);\n",
    "print(\"Sample without replacement is :  \",random.sample(data,5));\n",
    "print(\"Sample with replacement is :  \",np.random.choice(data,5));"
   ]
  },
  {
   "cell_type": "code",
   "execution_count": 41,
   "metadata": {},
   "outputs": [
    {
     "name": "stdout",
     "output_type": "stream",
     "text": [
      "   rno name  sem\n",
      "0   33  abc    4\n",
      "1   21  xyz    3\n",
      "2   40  pqr    2\n",
      "3   29  kdb    2\n",
      "4    7  bkd    3\n",
      "5   16  bcd    4\n",
      "6   32  dfg    1\n",
      "Clusters :  [[1.66666667]\n",
      " [4.        ]\n",
      " [3.        ]]\n",
      "Simple random cluster :   [array([4.]), array([3.]), array([1.66666667])]\n"
     ]
    }
   ],
   "source": [
    "from pandas import DataFrame\n",
    "import matplotlib.pyplot as plt\n",
    "from sklearn.cluster import KMeans\n",
    "\n",
    "data_set = {'rno':[33,21,40,29,7,16,32], 'name':['abc','xyz','pqr','kdb','bkd','bcd','dfg'] , 'sem':[4,3,2,2,3,4,1]}\n",
    "\n",
    "df1 = DataFrame(data_set,columns=['rno','name','sem'])\n",
    "print (df1)\n",
    "\n",
    "df = DataFrame(data_set,columns=['sem'])\n",
    "  \n",
    "kmeans = KMeans(n_clusters=3).fit(df)\n",
    "centroids = kmeans.cluster_centers_\n",
    "print(\"Clusters : \",centroids)\n",
    "print(\"Simple random cluster :  \",random.sample(list(centroids),3));\n",
    "#plt.scatter(df['name'],df['sem'], c= kmeans.labels_.astype(float), s=50, alpha=0.5)\n",
    "#plt.scatter(centroids[:, 0], centroids[:, 1], c='red', s=50)"
   ]
  },
  {
   "cell_type": "code",
   "execution_count": null,
   "metadata": {},
   "outputs": [],
   "source": []
  },
  {
   "cell_type": "code",
   "execution_count": null,
   "metadata": {},
   "outputs": [],
   "source": []
  }
 ],
 "metadata": {
  "kernelspec": {
   "display_name": "Python 3",
   "language": "python",
   "name": "python3"
  },
  "language_info": {
   "codemirror_mode": {
    "name": "ipython",
    "version": 3
   },
   "file_extension": ".py",
   "mimetype": "text/x-python",
   "name": "python",
   "nbconvert_exporter": "python",
   "pygments_lexer": "ipython3",
   "version": "3.7.1"
  }
 },
 "nbformat": 4,
 "nbformat_minor": 2
}
